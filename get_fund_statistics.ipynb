{
 "cells": [
  {
   "cell_type": "code",
   "execution_count": null,
   "metadata": {},
   "outputs": [],
   "source": [
    "\"\"\"\n",
    "Summary\n",
    "-------\n",
    "Get the statistics of a stock or a fund and estimate from\n",
    "its historical behavior the fund forecast potential.\n",
    "\n",
    "Inputs\n",
    "------\n",
    "* Fund choice between 1 and 5.\n",
    "* Fund period range between two dates.\n",
    "\n",
    "Outputs\n",
    "-------\n",
    "* Fund statistics and forecast potential.\n",
    "* Fund regression line coefficients.\n",
    "\n",
    "Example\n",
    "-------\n",
    "launch_analysis(1, ('2010-01-01', '2020-01-01'))\n",
    "\"\"\"\n",
    "\n",
    "############# General functions call:\n",
    "\n",
    "from analysis.fund_statistics import my_logger, launch_analysis\n",
    "\n",
    "############# Input data initialization:\n",
    "\n",
    "fund_choice = 1\n",
    "fund_period_range = ('2010-01-01', '2021-01-01')\n",
    "\n",
    "############# Main function:\n",
    "\n",
    "my_logger.info(\"Start fund statistics analysis.\")\n",
    "fund_dataset = launch_analysis(fund_choice, fund_period_range)\n",
    "my_logger.info(\"Stop fund statistics analysis.\")\n"
   ]
  },
  {
   "cell_type": "code",
   "execution_count": null,
   "metadata": {},
   "outputs": [],
   "source": [
    "############# General functions call:\n",
    "\n",
    "from analysis.fund_statistics import my_logger\n",
    "\n",
    "############# Display configuration:\n",
    "\n",
    "%matplotlib inline\n",
    "\n",
    "############ Summarize statistics:\n",
    "\n",
    "my_logger.info(\"Show statistics of the dataset:\")\n",
    "\n",
    "fund_dataset.dataframe.describe()\n"
   ]
  },
  {
   "cell_type": "code",
   "execution_count": null,
   "metadata": {},
   "outputs": [],
   "source": [
    "############ Visualize the 'daily_value' chart and histogram in the full period range:\n",
    "\n",
    "my_logger.info(\"Show the 'daily_value' column vs 'datetime' chart and histogram:\")\n",
    "\n",
    "fund_dataset.display_chart(x_column='datetime', y_column='daily_value', period_range=fund_period_range,\n",
    "                           function='plot', data_scale='linear', data_color='mediumblue')\n",
    "\n",
    "fund_dataset.display_histogram(x_column='daily_value', period_range=fund_period_range,\n",
    "                               data_color='forestgreen')\n"
   ]
  },
  {
   "cell_type": "code",
   "execution_count": null,
   "metadata": {},
   "outputs": [],
   "source": [
    "############ Visualize the log10 'daily_value' regression line and show the coefficients in a shorter period range:\n",
    "\n",
    "my_logger.info(\"Show the regression line of the 'daily_value' dataset column vs 'datetime':\")\n",
    "\n",
    "fund_dataset.display_polynomial_regression(x_column='datetime', y_column='daily_value', period_range=('2017-04-01', '2020-04-01'),\n",
    "                                           function='plot', data_scale='log10', data_color='mediumblue',\n",
    "                                           regression_line_color='firebrick', polynomial_degree=1, show_stats=True)\n"
   ]
  },
  {
   "cell_type": "code",
   "execution_count": null,
   "metadata": {},
   "outputs": [],
   "source": [
    "############ Visualize the 'rel_weekly_gain' histogram in the full period range:\n",
    "\n",
    "my_logger.info(\"Show the 'rel_weekly_gain' column histogram:\")\n",
    "\n",
    "fund_dataset.display_histogram(x_column='rel_weekly_gain', plotsize=(17, 4), period_range=fund_period_range,\n",
    "                               data_color='gold')\n"
   ]
  },
  {
   "cell_type": "code",
   "execution_count": null,
   "metadata": {},
   "outputs": [],
   "source": [
    "############ Visualize the 'rel_daily_gain' chart in a shorter period range:\n",
    "\n",
    "my_logger.info(\"Show the 'rel_daily_gain' column vs 'datetime' chart:\")\n",
    "\n",
    "fund_dataset.display_chart(x_column='datetime', y_column='rel_daily_gain', period_range=('2017-04-01', '2020-04-01'),\n",
    "                           function='plot', data_scale='linear', data_color='chocolate')\n"
   ]
  }
 ],
 "metadata": {
  "kernelspec": {
   "display_name": "Python 3",
   "language": "python",
   "name": "python3"
  },
  "language_info": {
   "codemirror_mode": {
    "name": "ipython",
    "version": 3
   },
   "file_extension": ".py",
   "mimetype": "text/x-python",
   "name": "python",
   "nbconvert_exporter": "python",
   "pygments_lexer": "ipython3",
   "version": "3.5.2"
  }
 },
 "nbformat": 4,
 "nbformat_minor": 2
}
